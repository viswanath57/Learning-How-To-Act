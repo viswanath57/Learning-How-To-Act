{
 "cells": [
  {
   "cell_type": "code",
   "execution_count": 0,
   "metadata": {
    "application/vnd.databricks.v1+cell": {
     "inputWidgets": {},
     "nuid": "d746befb-a470-4ca4-8b18-ffdb3a45689e",
     "showTitle": false,
     "title": ""
    },
    "autoscroll": "auto"
   },
   "outputs": [
    {
     "data": {
      "text/html": [
       "<style scoped>\n",
       "  .ansiout {\n",
       "    display: block;\n",
       "    unicode-bidi: embed;\n",
       "    white-space: pre-wrap;\n",
       "    word-wrap: break-word;\n",
       "    word-break: break-all;\n",
       "    font-family: \"Source Code Pro\", \"Menlo\", monospace;;\n",
       "    font-size: 13px;\n",
       "    color: #555;\n",
       "    margin-left: 4px;\n",
       "    line-height: 19px;\n",
       "  }\n",
       "</style>\n",
       "<div class=\"ansiout\"></div>"
      ]
     },
     "metadata": {
      "application/vnd.databricks.v1+output": {
       "addedWidgets": {},
       "arguments": {},
       "data": "<div class=\"ansiout\"></div>",
       "datasetInfos": [],
       "removedWidgets": [],
       "type": "html"
      }
     },
     "output_type": "display_data"
    }
   ],
   "source": [
    "import pandas as pd\n",
    "\n",
    "\n",
    "from pylift import TransformedOutcome\n",
    "import numpy as np\n",
    "\n",
    "from collections import Counter\n",
    "from sklearn.preprocessing import MinMaxScaler\n",
    "import math\n",
    "\n",
    "\n",
    "\n",
    "import matplotlib.pyplot as plt\n",
    "import subprocess\n",
    "import sys\n",
    "\n",
    "from pylift import TransformedOutcome\n",
    "from pylift.eval import UpliftEval\n",
    "import random\n",
    "from sklearn.model_selection import train_test_split\n",
    "\n",
    "import pandas as pd\n",
    "import numpy as np\n",
    "from collections import Counter\n",
    "\n",
    "from sklearn.model_selection import KFold\n",
    "from sklearn.preprocessing import MinMaxScaler\n",
    "from sklearn.linear_model import LogisticRegression\n",
    "from sklearn.metrics import precision_recall_curve\n",
    "from sklearn.metrics.cluster import contingency_matrix\n",
    "from sklearn.ensemble import GradientBoostingClassifier, GradientBoostingRegressor"
   ]
  },
  {
   "cell_type": "code",
   "execution_count": 0,
   "metadata": {
    "application/vnd.databricks.v1+cell": {
     "inputWidgets": {},
     "nuid": "ead3f103-e319-45bd-bbc1-af0241e4047e",
     "showTitle": false,
     "title": ""
    }
   },
   "outputs": [
    {
     "data": {
      "text/html": [
       "<style scoped>\n",
       "  .ansiout {\n",
       "    display: block;\n",
       "    unicode-bidi: embed;\n",
       "    white-space: pre-wrap;\n",
       "    word-wrap: break-word;\n",
       "    word-break: break-all;\n",
       "    font-family: \"Source Code Pro\", \"Menlo\", monospace;;\n",
       "    font-size: 13px;\n",
       "    color: #555;\n",
       "    margin-left: 4px;\n",
       "    line-height: 19px;\n",
       "  }\n",
       "</style>\n",
       "<div class=\"ansiout\"></div>"
      ]
     },
     "metadata": {
      "application/vnd.databricks.v1+output": {
       "addedWidgets": {},
       "arguments": {},
       "data": "<div class=\"ansiout\"></div>",
       "datasetInfos": [],
       "removedWidgets": [],
       "type": "html"
      }
     },
     "output_type": "display_data"
    }
   ],
   "source": [
    "pd.options.mode.chained_assignment = None"
   ]
  },
  {
   "cell_type": "code",
   "execution_count": 0,
   "metadata": {
    "application/vnd.databricks.v1+cell": {
     "inputWidgets": {},
     "nuid": "74606995-9d23-457d-be51-3506a2cded87",
     "showTitle": false,
     "title": ""
    }
   },
   "outputs": [
    {
     "data": {
      "text/html": [
       "<style scoped>\n",
       "  .ansiout {\n",
       "    display: block;\n",
       "    unicode-bidi: embed;\n",
       "    white-space: pre-wrap;\n",
       "    word-wrap: break-word;\n",
       "    word-break: break-all;\n",
       "    font-family: \"Source Code Pro\", \"Menlo\", monospace;;\n",
       "    font-size: 13px;\n",
       "    color: #555;\n",
       "    margin-left: 4px;\n",
       "    line-height: 19px;\n",
       "  }\n",
       "</style>\n",
       "<div class=\"ansiout\"></div>"
      ]
     },
     "metadata": {
      "application/vnd.databricks.v1+output": {
       "addedWidgets": {},
       "arguments": {},
       "data": "<div class=\"ansiout\"></div>",
       "datasetInfos": [],
       "removedWidgets": [],
       "type": "html"
      }
     },
     "output_type": "display_data"
    }
   ],
   "source": [
    "%matplotlib inline"
   ]
  },
  {
   "cell_type": "code",
   "execution_count": 0,
   "metadata": {
    "application/vnd.databricks.v1+cell": {
     "inputWidgets": {},
     "nuid": "d5cc5493-ddbf-474d-975d-90062d9cadc4",
     "showTitle": false,
     "title": ""
    }
   },
   "outputs": [
    {
     "data": {
      "text/html": [
       "<style scoped>\n",
       "  .ansiout {\n",
       "    display: block;\n",
       "    unicode-bidi: embed;\n",
       "    white-space: pre-wrap;\n",
       "    word-wrap: break-word;\n",
       "    word-break: break-all;\n",
       "    font-family: \"Source Code Pro\", \"Menlo\", monospace;;\n",
       "    font-size: 13px;\n",
       "    color: #555;\n",
       "    margin-left: 4px;\n",
       "    line-height: 19px;\n",
       "  }\n",
       "</style>\n",
       "<div class=\"ansiout\">(13979592, 16)\n",
       "\n",
       "treatment distribition:\n",
       "1    0.85\n",
       "0    0.15\n",
       "Name: treatment, dtype: float64\n",
       "</div>"
      ]
     },
     "metadata": {
      "application/vnd.databricks.v1+output": {
       "addedWidgets": {},
       "arguments": {},
       "data": "<div class=\"ansiout\">(13979592, 16)\n\ntreatment distribition:\n1    0.85\n0    0.15\nName: treatment, dtype: float64\n</div>",
       "datasetInfos": [],
       "removedWidgets": [],
       "type": "html"
      }
     },
     "output_type": "display_data"
    }
   ],
   "source": [
    "df = pd.read_csv('~/Downloads/uplift_datasets/criteo-uplift-v2.1.csv.gz')\n",
    "print(df.shape)\n",
    "print('\\ntreatment distribition:')\n",
    "print(str(df.treatment.value_counts(normalize=True)))"
   ]
  },
  {
   "cell_type": "code",
   "execution_count": 0,
   "metadata": {
    "application/vnd.databricks.v1+cell": {
     "inputWidgets": {},
     "nuid": "327fdcd6-d840-4d0d-b96c-e3fa89e5b58a",
     "showTitle": false,
     "title": ""
    }
   },
   "outputs": [
    {
     "data": {
      "text/html": [
       "<div>\n",
       "<style scoped>\n",
       "    .dataframe tbody tr th:only-of-type {\n",
       "        vertical-align: middle;\n",
       "    }\n",
       "\n",
       "    .dataframe tbody tr th {\n",
       "        vertical-align: top;\n",
       "    }\n",
       "\n",
       "    .dataframe thead tr th {\n",
       "        text-align: left;\n",
       "    }\n",
       "\n",
       "    .dataframe thead tr:last-of-type th {\n",
       "        text-align: right;\n",
       "    }\n",
       "</style>\n",
       "<table border=\"1\" class=\"dataframe\">\n",
       "  <thead>\n",
       "    <tr>\n",
       "      <th></th>\n",
       "      <th></th>\n",
       "      <th>visit</th>\n",
       "    </tr>\n",
       "    <tr>\n",
       "      <th></th>\n",
       "      <th></th>\n",
       "      <th>count</th>\n",
       "    </tr>\n",
       "    <tr>\n",
       "      <th>treatment</th>\n",
       "      <th>visit</th>\n",
       "      <th></th>\n",
       "    </tr>\n",
       "  </thead>\n",
       "  <tbody>\n",
       "    <tr>\n",
       "      <th rowspan=\"2\" valign=\"top\">0</th>\n",
       "      <th>0</th>\n",
       "      <td>2016832</td>\n",
       "    </tr>\n",
       "    <tr>\n",
       "      <th>1</th>\n",
       "      <td>80105</td>\n",
       "    </tr>\n",
       "    <tr>\n",
       "      <th rowspan=\"2\" valign=\"top\">1</th>\n",
       "      <th>0</th>\n",
       "      <td>11305831</td>\n",
       "    </tr>\n",
       "    <tr>\n",
       "      <th>1</th>\n",
       "      <td>576824</td>\n",
       "    </tr>\n",
       "  </tbody>\n",
       "</table>\n",
       "</div>"
      ]
     },
     "metadata": {
      "application/vnd.databricks.v1+output": {
       "addedWidgets": {},
       "arguments": {},
       "data": "<div>\n<style scoped>\n    .dataframe tbody tr th:only-of-type {\n        vertical-align: middle;\n    }\n\n    .dataframe tbody tr th {\n        vertical-align: top;\n    }\n\n    .dataframe thead tr th {\n        text-align: left;\n    }\n\n    .dataframe thead tr:last-of-type th {\n        text-align: right;\n    }\n</style>\n<table border=\"1\" class=\"dataframe\">\n  <thead>\n    <tr>\n      <th></th>\n      <th></th>\n      <th>visit</th>\n    </tr>\n    <tr>\n      <th></th>\n      <th></th>\n      <th>count</th>\n    </tr>\n    <tr>\n      <th>treatment</th>\n      <th>visit</th>\n      <th></th>\n    </tr>\n  </thead>\n  <tbody>\n    <tr>\n      <th rowspan=\"2\" valign=\"top\">0</th>\n      <th>0</th>\n      <td>2016832</td>\n    </tr>\n    <tr>\n      <th>1</th>\n      <td>80105</td>\n    </tr>\n    <tr>\n      <th rowspan=\"2\" valign=\"top\">1</th>\n      <th>0</th>\n      <td>11305831</td>\n    </tr>\n    <tr>\n      <th>1</th>\n      <td>576824</td>\n    </tr>\n  </tbody>\n</table>\n</div>",
       "datasetInfos": [],
       "removedWidgets": [],
       "textData": "<div class=\"ansiout\">Out[37]: </div>",
       "type": "htmlSandbox"
      }
     },
     "output_type": "display_data"
    }
   ],
   "source": [
    "df.groupby(['treatment', 'visit']).agg({'visit':[ 'count']})"
   ]
  },
  {
   "cell_type": "code",
   "execution_count": 0,
   "metadata": {
    "application/vnd.databricks.v1+cell": {
     "inputWidgets": {},
     "nuid": "7a07a859-50dd-4dee-9600-337fa44645d0",
     "showTitle": false,
     "title": ""
    }
   },
   "outputs": [
    {
     "data": {
      "text/html": [
       "<div>\n",
       "<style scoped>\n",
       "    .dataframe tbody tr th:only-of-type {\n",
       "        vertical-align: middle;\n",
       "    }\n",
       "\n",
       "    .dataframe tbody tr th {\n",
       "        vertical-align: top;\n",
       "    }\n",
       "\n",
       "    .dataframe thead tr th {\n",
       "        text-align: left;\n",
       "    }\n",
       "\n",
       "    .dataframe thead tr:last-of-type th {\n",
       "        text-align: right;\n",
       "    }\n",
       "</style>\n",
       "<table border=\"1\" class=\"dataframe\">\n",
       "  <thead>\n",
       "    <tr>\n",
       "      <th></th>\n",
       "      <th></th>\n",
       "      <th>conversion</th>\n",
       "    </tr>\n",
       "    <tr>\n",
       "      <th></th>\n",
       "      <th></th>\n",
       "      <th>count</th>\n",
       "    </tr>\n",
       "    <tr>\n",
       "      <th>treatment</th>\n",
       "      <th>conversion</th>\n",
       "      <th></th>\n",
       "    </tr>\n",
       "  </thead>\n",
       "  <tbody>\n",
       "    <tr>\n",
       "      <th rowspan=\"2\" valign=\"top\">0</th>\n",
       "      <th>0</th>\n",
       "      <td>2092874</td>\n",
       "    </tr>\n",
       "    <tr>\n",
       "      <th>1</th>\n",
       "      <td>4063</td>\n",
       "    </tr>\n",
       "    <tr>\n",
       "      <th rowspan=\"2\" valign=\"top\">1</th>\n",
       "      <th>0</th>\n",
       "      <td>11845944</td>\n",
       "    </tr>\n",
       "    <tr>\n",
       "      <th>1</th>\n",
       "      <td>36711</td>\n",
       "    </tr>\n",
       "  </tbody>\n",
       "</table>\n",
       "</div>"
      ]
     },
     "metadata": {
      "application/vnd.databricks.v1+output": {
       "addedWidgets": {},
       "arguments": {},
       "data": "<div>\n<style scoped>\n    .dataframe tbody tr th:only-of-type {\n        vertical-align: middle;\n    }\n\n    .dataframe tbody tr th {\n        vertical-align: top;\n    }\n\n    .dataframe thead tr th {\n        text-align: left;\n    }\n\n    .dataframe thead tr:last-of-type th {\n        text-align: right;\n    }\n</style>\n<table border=\"1\" class=\"dataframe\">\n  <thead>\n    <tr>\n      <th></th>\n      <th></th>\n      <th>conversion</th>\n    </tr>\n    <tr>\n      <th></th>\n      <th></th>\n      <th>count</th>\n    </tr>\n    <tr>\n      <th>treatment</th>\n      <th>conversion</th>\n      <th></th>\n    </tr>\n  </thead>\n  <tbody>\n    <tr>\n      <th rowspan=\"2\" valign=\"top\">0</th>\n      <th>0</th>\n      <td>2092874</td>\n    </tr>\n    <tr>\n      <th>1</th>\n      <td>4063</td>\n    </tr>\n    <tr>\n      <th rowspan=\"2\" valign=\"top\">1</th>\n      <th>0</th>\n      <td>11845944</td>\n    </tr>\n    <tr>\n      <th>1</th>\n      <td>36711</td>\n    </tr>\n  </tbody>\n</table>\n</div>",
       "datasetInfos": [],
       "removedWidgets": [],
       "textData": "<div class=\"ansiout\">Out[29]: </div>",
       "type": "htmlSandbox"
      }
     },
     "output_type": "display_data"
    }
   ],
   "source": [
    "df.groupby(['treatment', 'conversion']).agg({'conversion':[ 'count']})"
   ]
  },
  {
   "cell_type": "code",
   "execution_count": 0,
   "metadata": {
    "application/vnd.databricks.v1+cell": {
     "inputWidgets": {},
     "nuid": "92ca7c41-14fa-4b7a-b130-edf4276ed1e6",
     "showTitle": false,
     "title": ""
    }
   },
   "outputs": [
    {
     "data": {
      "text/html": [
       "<style scoped>\n",
       "  .ansiout {\n",
       "    display: block;\n",
       "    unicode-bidi: embed;\n",
       "    white-space: pre-wrap;\n",
       "    word-wrap: break-word;\n",
       "    word-break: break-all;\n",
       "    font-family: \"Source Code Pro\", \"Menlo\", monospace;;\n",
       "    font-size: 13px;\n",
       "    color: #555;\n",
       "    margin-left: 4px;\n",
       "    line-height: 19px;\n",
       "  }\n",
       "</style>\n",
       "<div class=\"ansiout\"></div>"
      ]
     },
     "metadata": {
      "application/vnd.databricks.v1+output": {
       "addedWidgets": {},
       "arguments": {},
       "data": "<div class=\"ansiout\"></div>",
       "datasetInfos": [],
       "removedWidgets": [],
       "type": "html"
      }
     },
     "output_type": "display_data"
    }
   ],
   "source": [
    "features = ['f0', 'f1', 'f2', 'f3', 'f4', 'f5', 'f6', 'f7', 'f8', 'f9', 'f10', 'f11']"
   ]
  },
  {
   "cell_type": "code",
   "execution_count": 0,
   "metadata": {
    "application/vnd.databricks.v1+cell": {
     "inputWidgets": {},
     "nuid": "51445a5c-c6b6-43bc-b5f9-e97321a1cae8",
     "showTitle": false,
     "title": ""
    }
   },
   "outputs": [
    {
     "data": {
      "text/html": [
       "<style scoped>\n",
       "  .ansiout {\n",
       "    display: block;\n",
       "    unicode-bidi: embed;\n",
       "    white-space: pre-wrap;\n",
       "    word-wrap: break-word;\n",
       "    word-break: break-all;\n",
       "    font-family: \"Source Code Pro\", \"Menlo\", monospace;;\n",
       "    font-size: 13px;\n",
       "    color: #555;\n",
       "    margin-left: 4px;\n",
       "    line-height: 19px;\n",
       "  }\n",
       "</style>\n",
       "<div class=\"ansiout\">Out[8]: (6989796, 16)</div>"
      ]
     },
     "metadata": {
      "application/vnd.databricks.v1+output": {
       "addedWidgets": {},
       "arguments": {},
       "data": "<div class=\"ansiout\">Out[8]: (6989796, 16)</div>",
       "datasetInfos": [],
       "removedWidgets": [],
       "type": "html"
      }
     },
     "output_type": "display_data"
    }
   ],
   "source": [
    "df_sample = df.sample(frac =.5) \n",
    "df_sample.shape"
   ]
  },
  {
   "cell_type": "code",
   "execution_count": 0,
   "metadata": {
    "application/vnd.databricks.v1+cell": {
     "inputWidgets": {},
     "nuid": "18c77e96-6555-4a83-a4f6-421f2abd9d6b",
     "showTitle": false,
     "title": ""
    }
   },
   "outputs": [
    {
     "data": {
      "text/html": [
       "<style scoped>\n",
       "  .ansiout {\n",
       "    display: block;\n",
       "    unicode-bidi: embed;\n",
       "    white-space: pre-wrap;\n",
       "    word-wrap: break-word;\n",
       "    word-break: break-all;\n",
       "    font-family: \"Source Code Pro\", \"Menlo\", monospace;;\n",
       "    font-size: 13px;\n",
       "    color: #555;\n",
       "    margin-left: 4px;\n",
       "    line-height: 19px;\n",
       "  }\n",
       "</style>\n",
       "<div class=\"ansiout\"></div>"
      ]
     },
     "metadata": {
      "application/vnd.databricks.v1+output": {
       "addedWidgets": {},
       "arguments": {},
       "data": "<div class=\"ansiout\"></div>",
       "datasetInfos": [],
       "removedWidgets": [],
       "type": "html"
      }
     },
     "output_type": "display_data"
    }
   ],
   "source": [
    "no_of_splits_kfold = 5"
   ]
  },
  {
   "cell_type": "markdown",
   "metadata": {},
   "source": [
    "Two Model Approach: treatment + visit"
   ]
  },
  {
   "cell_type": "code",
   "execution_count": 0,
   "metadata": {
    "application/vnd.databricks.v1+cell": {
     "inputWidgets": {},
     "nuid": "deaadd42-569d-4016-8201-75796d8fa03f",
     "showTitle": true,
     "title": "Two Model Approach: treatment + visit"
    }
   },
   "outputs": [
    {
     "data": {
      "text/html": [
       "<style scoped>\n",
       "  .ansiout {\n",
       "    display: block;\n",
       "    unicode-bidi: embed;\n",
       "    white-space: pre-wrap;\n",
       "    word-wrap: break-word;\n",
       "    word-break: break-all;\n",
       "    font-family: \"Source Code Pro\", \"Menlo\", monospace;;\n",
       "    font-size: 13px;\n",
       "    color: #555;\n",
       "    margin-left: 4px;\n",
       "    line-height: 19px;\n",
       "  }\n",
       "</style>\n",
       "<div class=\"ansiout\">q2_aqini:  0.096 q2_qini:  0.116 q2_cgains:  0.093\n",
       "q2_aqini:  0.081 q2_qini:  0.1 q2_cgains:  0.079\n",
       "q2_aqini:  0.084 q2_qini:  0.102 q2_cgains:  0.081\n",
       "q2_aqini:  0.082 q2_qini:  0.1 q2_cgains:  0.08\n",
       "q2_aqini:  0.086 q2_qini:  0.105 q2_cgains:  0.083\n",
       "</div>"
      ]
     },
     "metadata": {
      "application/vnd.databricks.v1+output": {
       "addedWidgets": {},
       "arguments": {},
       "data": "<div class=\"ansiout\">q2_aqini:  0.096 q2_qini:  0.116 q2_cgains:  0.093\nq2_aqini:  0.081 q2_qini:  0.1 q2_cgains:  0.079\nq2_aqini:  0.084 q2_qini:  0.102 q2_cgains:  0.081\nq2_aqini:  0.082 q2_qini:  0.1 q2_cgains:  0.08\nq2_aqini:  0.086 q2_qini:  0.105 q2_cgains:  0.083\n</div>",
       "datasetInfos": [],
       "removedWidgets": [],
       "type": "html"
      }
     },
     "output_type": "display_data"
    }
   ],
   "source": [
    "outcomeCol   = 'visit'\n",
    "treatmentCol = 'treatment'\n",
    "\n",
    "TMA_VisitTreatmentMts = {}\n",
    "TMA_VisitTreatmentMts['q2_qini']   = []\n",
    "TMA_VisitTreatmentMts['q2_aqini']  = []\n",
    "TMA_VisitTreatmentMts['q2_cgains'] = []\n",
    "\n",
    "kf = KFold(n_splits=no_of_splits_kfold)\n",
    "for train_index, test_index in kf.split(df_sample):\n",
    "    train_df = df_sample.iloc[train_index]\n",
    "    test_df  = df_sample.iloc[test_index]\n",
    "    \n",
    "    treated_data    = train_df[train_df[treatmentCol] == True ]\n",
    "    control_data    = train_df[train_df[treatmentCol] == False] \n",
    "\n",
    "    P_T = GradientBoostingClassifier().fit(treated_data[features], treated_data[outcomeCol] )\n",
    "    P_C = GradientBoostingClassifier().fit(control_data[features], control_data[outcomeCol] )\n",
    "\n",
    "    test_data_val_pred    = P_T.predict_proba( test_df[features] ) \n",
    "    control_data_val_pred = P_C.predict_proba( test_df[features] )\n",
    "\n",
    "    upev = UpliftEval(test_df[treatmentCol], test_df[outcomeCol], ( test_data_val_pred[:,1] - control_data_val_pred[:,1] ) )\n",
    "\n",
    "    print('q2_aqini: ', round(upev.q2_aqini,3), 'q2_qini: ', round(upev.q2_qini,3), 'q2_cgains: ', round(upev.q2_cgains,3))\n",
    "    \n",
    "    TMA_VisitTreatmentMts['q2_qini'].append(upev.q2_qini) \n",
    "    TMA_VisitTreatmentMts['q2_aqini'].append(upev.q2_aqini)\n",
    "    TMA_VisitTreatmentMts['q2_cgains'].append(upev.q2_cgains)\n",
    "     \n",
    "#     upev.plot(plot_type='cgains', label='Model: TMA; TV=treatment & OV=visit')"
   ]
  },
  {
   "cell_type": "code",
   "execution_count": 0,
   "metadata": {
    "application/vnd.databricks.v1+cell": {
     "inputWidgets": {},
     "nuid": "7625813d-6307-4dd6-b336-229d9274ca0b",
     "showTitle": true,
     "title": "Two Model Approach: treatment + conversion"
    }
   },
   "outputs": [
    {
     "data": {
      "text/html": [
       "<style scoped>\n",
       "  .ansiout {\n",
       "    display: block;\n",
       "    unicode-bidi: embed;\n",
       "    white-space: pre-wrap;\n",
       "    word-wrap: break-word;\n",
       "    word-break: break-all;\n",
       "    font-family: \"Source Code Pro\", \"Menlo\", monospace;;\n",
       "    font-size: 13px;\n",
       "    color: #555;\n",
       "    margin-left: 4px;\n",
       "    line-height: 19px;\n",
       "  }\n",
       "</style>\n",
       "<div class=\"ansiout\">q2_aqini:  0.132 q2_qini:  0.149 q2_cgains:  0.127\n",
       "q2_aqini:  0.077 q2_qini:  0.091 q2_cgains:  0.073\n",
       "q2_aqini:  0.108 q2_qini:  0.127 q2_cgains:  0.103\n",
       "q2_aqini:  0.137 q2_qini:  0.151 q2_cgains:  0.131\n",
       "q2_aqini:  0.153 q2_qini:  0.167 q2_cgains:  0.148\n",
       "</div>"
      ]
     },
     "metadata": {
      "application/vnd.databricks.v1+output": {
       "addedWidgets": {},
       "arguments": {},
       "data": "<div class=\"ansiout\">q2_aqini:  0.132 q2_qini:  0.149 q2_cgains:  0.127\nq2_aqini:  0.077 q2_qini:  0.091 q2_cgains:  0.073\nq2_aqini:  0.108 q2_qini:  0.127 q2_cgains:  0.103\nq2_aqini:  0.137 q2_qini:  0.151 q2_cgains:  0.131\nq2_aqini:  0.153 q2_qini:  0.167 q2_cgains:  0.148\n</div>",
       "datasetInfos": [],
       "removedWidgets": [],
       "type": "html"
      }
     },
     "output_type": "display_data"
    }
   ],
   "source": [
    "outcomeCol   = 'conversion'\n",
    "treatmentCol = 'treatment'\n",
    "\n",
    "TMA_ConversionTreatmentMts = {}\n",
    "TMA_ConversionTreatmentMts['q2_qini']   = []\n",
    "TMA_ConversionTreatmentMts['q2_aqini']  = []\n",
    "TMA_ConversionTreatmentMts['q2_cgains'] = []\n",
    "\n",
    "kf = KFold(n_splits=no_of_splits_kfold)\n",
    "for train_index, test_index in kf.split(df_sample):\n",
    "    train_df = df_sample.iloc[train_index]\n",
    "    test_df  = df_sample.iloc[test_index]\n",
    "    \n",
    "    treated_data    = train_df[train_df[treatmentCol] == True ]\n",
    "    control_data    = train_df[train_df[treatmentCol] == False] \n",
    "\n",
    "    P_T = GradientBoostingClassifier().fit(treated_data[features], treated_data[outcomeCol] )\n",
    "    P_C = GradientBoostingClassifier().fit(control_data[features], control_data[outcomeCol] )\n",
    "\n",
    "    test_data_val_pred    = P_T.predict_proba( test_df[features] ) \n",
    "    control_data_val_pred = P_C.predict_proba( test_df[features] )\n",
    "\n",
    "    upev = UpliftEval(test_df[treatmentCol], test_df[outcomeCol], ( test_data_val_pred[:,1] - control_data_val_pred[:,1] ) )\n",
    "\n",
    "    print('q2_aqini: ', round(upev.q2_aqini,3), 'q2_qini: ', round(upev.q2_qini,3), 'q2_cgains: ', round(upev.q2_cgains,3))\n",
    "    \n",
    "    TMA_ConversionTreatmentMts['q2_qini'].append(upev.q2_qini) \n",
    "    TMA_ConversionTreatmentMts['q2_aqini'].append(upev.q2_aqini)\n",
    "    TMA_ConversionTreatmentMts['q2_cgains'].append(upev.q2_cgains)\n",
    "     \n",
    "#     upev.plot(plot_type='cgains', label='Model: TMA; TV=treatment & OV=visit')"
   ]
  },
  {
   "cell_type": "markdown",
   "metadata": {},
   "source": [
    "q2_aqini:  0.096 q2_qini:  0.116 q2_cgains:  0.093<br/>\n",
    "q2_aqini:  0.081 q2_qini:  0.1 q2_cgains:  0.079<br/>\n",
    "q2_aqini:  0.084 q2_qini:  0.102 q2_cgains:  0.081<br/>\n",
    "q2_aqini:  0.082 q2_qini:  0.1 q2_cgains:  0.08<br/>\n",
    "q2_aqini:  0.086 q2_qini:  0.105 q2_cgains:  0.083<br/>"
   ]
  },
  {
   "cell_type": "code",
   "execution_count": 0,
   "metadata": {
    "application/vnd.databricks.v1+cell": {
     "inputWidgets": {},
     "nuid": "cacdde1c-9f89-4082-a679-37d4fdd659c6",
     "showTitle": true,
     "title": "Single Model Approach(SMA): treatment + visit"
    }
   },
   "outputs": [
    {
     "data": {
      "text/html": [
       "<style scoped>\n",
       "  .ansiout {\n",
       "    display: block;\n",
       "    unicode-bidi: embed;\n",
       "    white-space: pre-wrap;\n",
       "    word-wrap: break-word;\n",
       "    word-break: break-all;\n",
       "    font-family: \"Source Code Pro\", \"Menlo\", monospace;;\n",
       "    font-size: 13px;\n",
       "    color: #555;\n",
       "    margin-left: 4px;\n",
       "    line-height: 19px;\n",
       "  }\n",
       "</style>\n",
       "<div class=\"ansiout\">q2_aqini:  0.088 q2_qini:  0.112 q2_cgains:  0.085\n",
       "q2_aqini:  0.085 q2_qini:  0.109 q2_cgains:  0.083\n",
       "q2_aqini:  0.083 q2_qini:  0.106 q2_cgains:  0.081\n",
       "q2_aqini:  0.091 q2_qini:  0.114 q2_cgains:  0.088\n",
       "q2_aqini:  0.083 q2_qini:  0.106 q2_cgains:  0.081\n",
       "</div>"
      ]
     },
     "metadata": {
      "application/vnd.databricks.v1+output": {
       "addedWidgets": {},
       "arguments": {},
       "data": "<div class=\"ansiout\">q2_aqini:  0.088 q2_qini:  0.112 q2_cgains:  0.085\nq2_aqini:  0.085 q2_qini:  0.109 q2_cgains:  0.083\nq2_aqini:  0.083 q2_qini:  0.106 q2_cgains:  0.081\nq2_aqini:  0.091 q2_qini:  0.114 q2_cgains:  0.088\nq2_aqini:  0.083 q2_qini:  0.106 q2_cgains:  0.081\n</div>",
       "datasetInfos": [],
       "removedWidgets": [],
       "type": "html"
      }
     },
     "output_type": "display_data"
    }
   ],
   "source": [
    "outcomeCol   = 'visit'\n",
    "treatmentCol = 'treatment'\n",
    "\n",
    "SMA_VisitTreatmentMts = {}\n",
    "SMA_VisitTreatmentMts['q2_qini']   = []\n",
    "SMA_VisitTreatmentMts['q2_aqini']  = []\n",
    "SMA_VisitTreatmentMts['q2_cgains'] = []\n",
    "\n",
    "kf = KFold(n_splits=no_of_splits_kfold)\n",
    "for train_index, test_index in kf.split(df_sample):\n",
    "    \n",
    "    train_df = df_sample.iloc[train_index]\n",
    "    test_df  = df_sample.iloc[test_index]\n",
    "    \n",
    "    train_df[f'{treatmentCol}_mod'] = train_df[treatmentCol]\n",
    "    test_df[f'{treatmentCol}_mod']  = test_df[treatmentCol]\n",
    "\n",
    "    propModel = GradientBoostingClassifier().fit(train_df[features + [f'{treatmentCol}_mod']], train_df[outcomeCol] )\n",
    "\n",
    "    test_df[f'{treatmentCol}_mod'] = 1\n",
    "    test_data_val_pred    = propModel.predict_proba( test_df[features + [f'{treatmentCol}_mod']] )\n",
    "    test_df[f'{treatmentCol}_mod'] = 0\n",
    "    control_data_val_pred = propModel.predict_proba( test_df[features + [f'{treatmentCol}_mod']] )\n",
    "\n",
    "    upev = UpliftEval(test_df[treatmentCol], test_df[outcomeCol], ( test_data_val_pred[:,1] - control_data_val_pred[:,1] ) )\n",
    "\n",
    "    SMA_VisitTreatmentMts['q2_qini'].append(upev.q2_qini) \n",
    "    SMA_VisitTreatmentMts['q2_aqini'].append(upev.q2_aqini)\n",
    "    SMA_VisitTreatmentMts['q2_cgains'].append(upev.q2_cgains)\n",
    "    \n",
    "    print('q2_aqini: ', round(upev.q2_aqini,3), 'q2_qini: ', round(upev.q2_qini,3), 'q2_cgains: ', round(upev.q2_cgains,3))\n",
    "#     upev.plot(plot_type='cgains', label='Model: SMA; TV=treatment & OV=visit')\n"
   ]
  },
  {
   "cell_type": "code",
   "execution_count": 0,
   "metadata": {
    "application/vnd.databricks.v1+cell": {
     "inputWidgets": {},
     "nuid": "4835a4cd-ce48-4ae5-aae8-5485f6ed7479",
     "showTitle": false,
     "title": ""
    }
   },
   "outputs": [
    {
     "data": {
      "text/html": [
       "<style scoped>\n",
       "  .ansiout {\n",
       "    display: block;\n",
       "    unicode-bidi: embed;\n",
       "    white-space: pre-wrap;\n",
       "    word-wrap: break-word;\n",
       "    word-break: break-all;\n",
       "    font-family: \"Source Code Pro\", \"Menlo\", monospace;;\n",
       "    font-size: 13px;\n",
       "    color: #555;\n",
       "    margin-left: 4px;\n",
       "    line-height: 19px;\n",
       "  }\n",
       "</style>\n",
       "<div class=\"ansiout\">q2_aqini:  0.209 q2_qini:  0.229 q2_cgains:  0.203\n",
       "q2_aqini:  0.016 q2_qini:  0.016 q2_cgains:  0.016\n",
       "q2_aqini:  0.006 q2_qini:  0.007 q2_cgains:  0.005\n",
       "q2_aqini:  0.008 q2_qini:  0.007 q2_cgains:  0.008\n",
       "q2_aqini:  0.01 q2_qini:  0.01 q2_cgains:  0.01\n",
       "</div>"
      ]
     },
     "metadata": {
      "application/vnd.databricks.v1+output": {
       "addedWidgets": {},
       "arguments": {},
       "data": "<div class=\"ansiout\">q2_aqini:  0.209 q2_qini:  0.229 q2_cgains:  0.203\nq2_aqini:  0.016 q2_qini:  0.016 q2_cgains:  0.016\nq2_aqini:  0.006 q2_qini:  0.007 q2_cgains:  0.005\nq2_aqini:  0.008 q2_qini:  0.007 q2_cgains:  0.008\nq2_aqini:  0.01 q2_qini:  0.01 q2_cgains:  0.01\n</div>",
       "datasetInfos": [],
       "removedWidgets": [],
       "type": "html"
      }
     },
     "output_type": "display_data"
    }
   ],
   "source": [
    "outcomeCol   = 'conversion'\n",
    "treatmentCol = 'treatment'\n",
    "\n",
    "SMA_ConversionTreatmentMts = {}\n",
    "SMA_ConversionTreatmentMts['q2_qini']   = []\n",
    "SMA_ConversionTreatmentMts['q2_aqini']  = []\n",
    "SMA_ConversionTreatmentMts['q2_cgains'] = []\n",
    "\n",
    "kf = KFold(n_splits=no_of_splits_kfold)\n",
    "for train_index, test_index in kf.split(df_sample):\n",
    "    \n",
    "    train_df = df_sample.iloc[train_index]\n",
    "    test_df  = df_sample.iloc[test_index]\n",
    "    \n",
    "    train_df[f'{treatmentCol}_mod'] = train_df[treatmentCol]\n",
    "    test_df[f'{treatmentCol}_mod']  = test_df[treatmentCol]\n",
    "\n",
    "    propModel = GradientBoostingClassifier().fit(train_df[features + [f'{treatmentCol}_mod']], train_df[outcomeCol] )\n",
    "\n",
    "\n",
    "    test_df[f'{treatmentCol}_mod'] = 1\n",
    "    test_data_val_pred    = propModel.predict_proba( test_df[features + [f'{treatmentCol}_mod']] )\n",
    "    test_df[f'{treatmentCol}_mod'] = 0\n",
    "    control_data_val_pred = propModel.predict_proba( test_df[features + [f'{treatmentCol}_mod']] )\n",
    "\n",
    "    upev = UpliftEval(test_df[treatmentCol], test_df[outcomeCol], ( test_data_val_pred[:,1] - control_data_val_pred[:,1] ) )\n",
    "\n",
    "    SMA_ConversionTreatmentMts['q2_qini'].append(upev.q2_qini) \n",
    "    SMA_ConversionTreatmentMts['q2_aqini'].append(upev.q2_aqini)\n",
    "    SMA_ConversionTreatmentMts['q2_cgains'].append(upev.q2_cgains)\n",
    "    \n",
    "    print('q2_aqini: ', round(upev.q2_aqini,3), 'q2_qini: ', round(upev.q2_qini,3), 'q2_cgains: ', round(upev.q2_cgains,3))\n",
    "#     upev.plot(plot_type='cgains', label='Model: SMA; TV=treatment & OV=visit')\n"
   ]
  },
  {
   "cell_type": "code",
   "execution_count": 0,
   "metadata": {
    "application/vnd.databricks.v1+cell": {
     "inputWidgets": {},
     "nuid": "c0b62dbd-9e9d-46eb-8d37-038dcc1a781d",
     "showTitle": true,
     "title": "CATE-generating output transformer: treatment + visit"
    }
   },
   "outputs": [
    {
     "data": {
      "text/html": [
       "<style scoped>\n",
       "  .ansiout {\n",
       "    display: block;\n",
       "    unicode-bidi: embed;\n",
       "    white-space: pre-wrap;\n",
       "    word-wrap: break-word;\n",
       "    word-break: break-all;\n",
       "    font-family: \"Source Code Pro\", \"Menlo\", monospace;;\n",
       "    font-size: 13px;\n",
       "    color: #555;\n",
       "    margin-left: 4px;\n",
       "    line-height: 19px;\n",
       "  }\n",
       "</style>\n",
       "<div class=\"ansiout\">q2_aqini:  0.086 q2_qini:  0.108 q2_cgains:  0.084\n",
       "q2_aqini:  0.081 q2_qini:  0.103 q2_cgains:  0.079\n",
       "q2_aqini:  0.083 q2_qini:  0.103 q2_cgains:  0.081\n",
       "q2_aqini:  0.088 q2_qini:  0.109 q2_cgains:  0.086\n",
       "q2_aqini:  0.081 q2_qini:  0.102 q2_cgains:  0.079\n",
       "</div>"
      ]
     },
     "metadata": {
      "application/vnd.databricks.v1+output": {
       "addedWidgets": {},
       "arguments": {},
       "data": "<div class=\"ansiout\">q2_aqini:  0.086 q2_qini:  0.108 q2_cgains:  0.084\nq2_aqini:  0.081 q2_qini:  0.103 q2_cgains:  0.079\nq2_aqini:  0.083 q2_qini:  0.103 q2_cgains:  0.081\nq2_aqini:  0.088 q2_qini:  0.109 q2_cgains:  0.086\nq2_aqini:  0.081 q2_qini:  0.102 q2_cgains:  0.079\n</div>",
       "datasetInfos": [],
       "removedWidgets": [],
       "type": "html"
      }
     },
     "output_type": "display_data"
    }
   ],
   "source": [
    "outcomeCol   = 'visit'\n",
    "treatmentCol = 'treatment'\n",
    "\n",
    "OT_VisitTreatmentMts = {}\n",
    "OT_VisitTreatmentMts['q2_qini']   = []\n",
    "OT_VisitTreatmentMts['q2_aqini']  = []\n",
    "OT_VisitTreatmentMts['q2_cgains'] = []\n",
    "\n",
    "kf = KFold(n_splits=no_of_splits_kfold)\n",
    "for train_index, test_index in kf.split(df_sample):    \n",
    "    train_df = df_sample.iloc[train_index]\n",
    "    test_df  = df_sample.iloc[test_index]\n",
    "    \n",
    "    psModel = GradientBoostingClassifier().fit( train_df[features], train_df[treatmentCol]  )    \n",
    "    propensityScore = psModel.predict_proba( train_df[features] )    \n",
    "    train_df['ps'] = np.where(train_df[treatmentCol] == 1, propensityScore[:,1], propensityScore[:,0])\n",
    "    train_df['y_mod']  = ( \n",
    "                            train_df[outcomeCol] * ( train_df[treatmentCol] - train_df['ps']) \n",
    "                                       / \n",
    "                           ( train_df['ps'] * ( 1-train_df['ps'] ) )\n",
    "                          )\n",
    "    cateModel = GradientBoostingRegressor().fit(train_df[features], train_df['y_mod'] )\n",
    "\n",
    "    test_df['uplift'] = cateModel.predict( test_df[features] )\n",
    "    upev = UpliftEval(test_df[treatmentCol], test_df[outcomeCol], test_df.uplift)\n",
    "    \n",
    "    OT_VisitTreatmentMts['q2_qini'].append(upev.q2_qini) \n",
    "    OT_VisitTreatmentMts['q2_aqini'].append(upev.q2_aqini)\n",
    "    OT_VisitTreatmentMts['q2_cgains'].append(upev.q2_cgains)\n",
    "    \n",
    "    print('q2_aqini: ', round(upev.q2_aqini,3), 'q2_qini: ', round(upev.q2_qini,3), 'q2_cgains: ', round(upev.q2_cgains,3))\n",
    "#     upev.plot(plot_type='cgains', label='Model: OT; TV=treatment & OV=visit')"
   ]
  },
  {
   "cell_type": "code",
   "execution_count": 0,
   "metadata": {
    "application/vnd.databricks.v1+cell": {
     "inputWidgets": {},
     "nuid": "ba8eb011-cac6-4e9a-ba74-3b6e22b27e6e",
     "showTitle": true,
     "title": "CATE-generating output transformer: treatment + conversion"
    }
   },
   "outputs": [
    {
     "data": {
      "text/html": [
       "<style scoped>\n",
       "  .ansiout {\n",
       "    display: block;\n",
       "    unicode-bidi: embed;\n",
       "    white-space: pre-wrap;\n",
       "    word-wrap: break-word;\n",
       "    word-break: break-all;\n",
       "    font-family: \"Source Code Pro\", \"Menlo\", monospace;;\n",
       "    font-size: 13px;\n",
       "    color: #555;\n",
       "    margin-left: 4px;\n",
       "    line-height: 19px;\n",
       "  }\n",
       "</style>\n",
       "<div class=\"ansiout\">q2_aqini:  0.213 q2_qini:  0.235 q2_cgains:  0.207\n",
       "q2_aqini:  0.17 q2_qini:  0.194 q2_cgains:  0.165\n",
       "q2_aqini:  0.166 q2_qini:  0.189 q2_cgains:  0.161\n",
       "q2_aqini:  0.195 q2_qini:  0.218 q2_cgains:  0.189\n",
       "q2_aqini:  0.188 q2_qini:  0.211 q2_cgains:  0.182\n",
       "</div>"
      ]
     },
     "metadata": {
      "application/vnd.databricks.v1+output": {
       "addedWidgets": {},
       "arguments": {},
       "data": "<div class=\"ansiout\">q2_aqini:  0.213 q2_qini:  0.235 q2_cgains:  0.207\nq2_aqini:  0.17 q2_qini:  0.194 q2_cgains:  0.165\nq2_aqini:  0.166 q2_qini:  0.189 q2_cgains:  0.161\nq2_aqini:  0.195 q2_qini:  0.218 q2_cgains:  0.189\nq2_aqini:  0.188 q2_qini:  0.211 q2_cgains:  0.182\n</div>",
       "datasetInfos": [],
       "removedWidgets": [],
       "type": "html"
      }
     },
     "output_type": "display_data"
    }
   ],
   "source": [
    "outcomeCol   = 'conversion'\n",
    "treatmentCol = 'treatment'\n",
    "\n",
    "OT_ConversionTreatmentMts = {}\n",
    "OT_ConversionTreatmentMts['q2_qini']   = []\n",
    "OT_ConversionTreatmentMts['q2_aqini']  = []\n",
    "OT_ConversionTreatmentMts['q2_cgains'] = []\n",
    "\n",
    "kf = KFold(n_splits=no_of_splits_kfold)\n",
    "for train_index, test_index in kf.split(df_sample):    \n",
    "    train_df = df_sample.iloc[train_index]\n",
    "    test_df  = df_sample.iloc[test_index]\n",
    "    \n",
    "    psModel = GradientBoostingClassifier().fit( train_df[features], train_df[treatmentCol]  )    \n",
    "    propensityScore = psModel.predict_proba( train_df[features] )    \n",
    "    train_df['ps'] = np.where(train_df[treatmentCol] == 1, propensityScore[:,1], propensityScore[:,0])\n",
    "    train_df['y_mod']  = ( \n",
    "                            train_df[outcomeCol] * ( train_df[treatmentCol] - train_df['ps']) \n",
    "                                       / \n",
    "                           ( train_df['ps'] * ( 1-train_df['ps'] ) )\n",
    "                          )\n",
    "    cateModel = GradientBoostingRegressor().fit(train_df[features], train_df['y_mod'] )\n",
    "\n",
    "    test_df['uplift'] = cateModel.predict( test_df[features] )\n",
    "    upev = UpliftEval(test_df[treatmentCol], test_df[outcomeCol], test_df.uplift)\n",
    "    \n",
    "    OT_ConversionTreatmentMts['q2_qini'].append(upev.q2_qini) \n",
    "    OT_ConversionTreatmentMts['q2_aqini'].append(upev.q2_aqini)\n",
    "    OT_ConversionTreatmentMts['q2_cgains'].append(upev.q2_cgains)\n",
    "    \n",
    "    print('q2_aqini: ', round(upev.q2_aqini,3), 'q2_qini: ', round(upev.q2_qini,3), 'q2_cgains: ', round(upev.q2_cgains,3))\n",
    "#     upev.plot(plot_type='cgains', label='Model: OT; TV=treatment & OV=visit')"
   ]
  },
  {
   "cell_type": "code",
   "execution_count": 0,
   "metadata": {
    "application/vnd.databricks.v1+cell": {
     "inputWidgets": {},
     "nuid": "8f1e0cc2-5663-4d8b-b67f-1811a17cafb8",
     "showTitle": true,
     "title": "X-Learner: visit + treatment"
    }
   },
   "outputs": [
    {
     "data": {
      "text/html": [
       "<style scoped>\n",
       "  .ansiout {\n",
       "    display: block;\n",
       "    unicode-bidi: embed;\n",
       "    white-space: pre-wrap;\n",
       "    word-wrap: break-word;\n",
       "    word-break: break-all;\n",
       "    font-family: \"Source Code Pro\", \"Menlo\", monospace;;\n",
       "    font-size: 13px;\n",
       "    color: #555;\n",
       "    margin-left: 4px;\n",
       "    line-height: 19px;\n",
       "  }\n",
       "</style>\n",
       "<div class=\"ansiout\">q2_aqini:  0.09 q2_qini:  0.111 q2_cgains:  0.087\n",
       "q2_aqini:  0.085 q2_qini:  0.106 q2_cgains:  0.082\n",
       "q2_aqini:  0.09 q2_qini:  0.108 q2_cgains:  0.088\n",
       "q2_aqini:  0.094 q2_qini:  0.114 q2_cgains:  0.091\n",
       "q2_aqini:  0.087 q2_qini:  0.107 q2_cgains:  0.084\n",
       "</div>"
      ]
     },
     "metadata": {
      "application/vnd.databricks.v1+output": {
       "addedWidgets": {},
       "arguments": {},
       "data": "<div class=\"ansiout\">q2_aqini:  0.09 q2_qini:  0.111 q2_cgains:  0.087\nq2_aqini:  0.085 q2_qini:  0.106 q2_cgains:  0.082\nq2_aqini:  0.09 q2_qini:  0.108 q2_cgains:  0.088\nq2_aqini:  0.094 q2_qini:  0.114 q2_cgains:  0.091\nq2_aqini:  0.087 q2_qini:  0.107 q2_cgains:  0.084\n</div>",
       "datasetInfos": [],
       "removedWidgets": [],
       "type": "html"
      }
     },
     "output_type": "display_data"
    }
   ],
   "source": [
    "outcomeCol   = 'visit'\n",
    "treatmentCol = 'treatment'\n",
    "\n",
    "XL_VisitTreatmentMts = {}\n",
    "XL_VisitTreatmentMts['q2_qini']   = []\n",
    "XL_VisitTreatmentMts['q2_aqini']  = []\n",
    "XL_VisitTreatmentMts['q2_cgains'] = []\n",
    "\n",
    "kf = KFold(n_splits=no_of_splits_kfold)\n",
    "for train_index, test_index in kf.split(df_sample):    \n",
    "    train_df = df_sample.iloc[train_index]\n",
    "    test_df  = df_sample.iloc[test_index]\n",
    "\n",
    "\n",
    "    psModel = GradientBoostingClassifier().fit( train_df[features], train_df[treatmentCol]  )\n",
    "\n",
    "    treated_data    = train_df[train_df.treatment == True ]\n",
    "    control_data    = train_df[train_df.treatment == False] \n",
    "\n",
    "    T_X = GradientBoostingClassifier().fit(treated_data[features], treated_data[outcomeCol] )\n",
    "    C_X = GradientBoostingClassifier().fit(control_data[features], control_data[outcomeCol] )\n",
    "\n",
    "    treated_data['DT_Y'] = treated_data[outcomeCol] - C_X.predict_proba(treated_data[features])[:,1]\n",
    "    control_data['DC_Y'] = T_X.predict_proba(control_data[features])[:,1] - control_data[outcomeCol]\n",
    "\n",
    "    DT_X = GradientBoostingRegressor().fit(treated_data[features], treated_data['DT_Y'])\n",
    "    DC_X = GradientBoostingRegressor().fit(control_data[features], control_data['DC_Y'])\n",
    "\n",
    "    test_df['uplift'] = ( \n",
    "        psModel.predict_proba(test_df[features])[:,1] * DC_X.predict(test_df[features])\n",
    "                             +\n",
    "        psModel.predict_proba(test_df[features])[:,0] * DT_X.predict(test_df[features])\n",
    "    )\n",
    "\n",
    "    upev = UpliftEval(test_df[treatmentCol], test_df[outcomeCol], test_df.uplift)\n",
    "\n",
    "    print('q2_aqini: ', round(upev.q2_aqini,3), 'q2_qini: ', round(upev.q2_qini,3), 'q2_cgains: ', round(upev.q2_cgains,3))\n",
    "#     upev.plot(plot_type='cgains', label='Model: X-Learner; TV=treatment & OV=visit')\n",
    "\n",
    "    XL_VisitTreatmentMts['q2_qini'].append(upev.q2_qini) \n",
    "    XL_VisitTreatmentMts['q2_aqini'].append(upev.q2_aqini)\n",
    "    XL_VisitTreatmentMts['q2_cgains'].append(upev.q2_cgains)\n",
    "    \n"
   ]
  },
  {
   "cell_type": "code",
   "execution_count": 0,
   "metadata": {
    "application/vnd.databricks.v1+cell": {
     "inputWidgets": {},
     "nuid": "7752d040-b192-4371-ae35-46514b61197b",
     "showTitle": true,
     "title": "X-Learner: treatment + conversion"
    }
   },
   "outputs": [
    {
     "data": {
      "text/html": [
       "<style scoped>\n",
       "  .ansiout {\n",
       "    display: block;\n",
       "    unicode-bidi: embed;\n",
       "    white-space: pre-wrap;\n",
       "    word-wrap: break-word;\n",
       "    word-break: break-all;\n",
       "    font-family: \"Source Code Pro\", \"Menlo\", monospace;;\n",
       "    font-size: 13px;\n",
       "    color: #555;\n",
       "    margin-left: 4px;\n",
       "    line-height: 19px;\n",
       "  }\n",
       "</style>\n",
       "<div class=\"ansiout\">q2_aqini:  0.19 q2_qini:  0.21 q2_cgains:  0.184\n",
       "q2_aqini:  0.095 q2_qini:  0.112 q2_cgains:  0.091\n",
       "q2_aqini:  0.154 q2_qini:  0.174 q2_cgains:  0.149\n",
       "q2_aqini:  0.164 q2_qini:  0.181 q2_cgains:  0.158\n",
       "q2_aqini:  0.18 q2_qini:  0.197 q2_cgains:  0.175\n",
       "</div>"
      ]
     },
     "metadata": {
      "application/vnd.databricks.v1+output": {
       "addedWidgets": {},
       "arguments": {},
       "data": "<div class=\"ansiout\">q2_aqini:  0.19 q2_qini:  0.21 q2_cgains:  0.184\nq2_aqini:  0.095 q2_qini:  0.112 q2_cgains:  0.091\nq2_aqini:  0.154 q2_qini:  0.174 q2_cgains:  0.149\nq2_aqini:  0.164 q2_qini:  0.181 q2_cgains:  0.158\nq2_aqini:  0.18 q2_qini:  0.197 q2_cgains:  0.175\n</div>",
       "datasetInfos": [],
       "removedWidgets": [],
       "type": "html"
      }
     },
     "output_type": "display_data"
    }
   ],
   "source": [
    "outcomeCol   = 'conversion'\n",
    "treatmentCol = 'treatment'\n",
    "\n",
    "XL_ConversionTreatmentMts = {}\n",
    "XL_ConversionTreatmentMts['q2_qini']   = []\n",
    "XL_ConversionTreatmentMts['q2_aqini']  = []\n",
    "XL_ConversionTreatmentMts['q2_cgains'] = []\n",
    "\n",
    "kf = KFold(n_splits=no_of_splits_kfold)\n",
    "for train_index, test_index in kf.split(df_sample):    \n",
    "    train_df = df_sample.iloc[train_index]\n",
    "    test_df  = df_sample.iloc[test_index]\n",
    "\n",
    "\n",
    "    psModel = GradientBoostingClassifier().fit( train_df[features], train_df[treatmentCol]  )\n",
    "\n",
    "    treated_data    = train_df[train_df.treatment == True ]\n",
    "    control_data    = train_df[train_df.treatment == False] \n",
    "\n",
    "    T_X = GradientBoostingClassifier().fit(treated_data[features], treated_data[outcomeCol] )\n",
    "    C_X = GradientBoostingClassifier().fit(control_data[features], control_data[outcomeCol] )\n",
    "\n",
    "    treated_data['DT_Y'] = treated_data[outcomeCol] - C_X.predict_proba(treated_data[features])[:,1]\n",
    "    control_data['DC_Y'] = T_X.predict_proba(control_data[features])[:,1] - control_data[outcomeCol]\n",
    "\n",
    "    DT_X = GradientBoostingRegressor().fit(treated_data[features], treated_data['DT_Y'])\n",
    "    DC_X = GradientBoostingRegressor().fit(control_data[features], control_data['DC_Y'])\n",
    "\n",
    "    test_df['uplift'] = ( \n",
    "        psModel.predict_proba(test_df[features])[:,1] * DC_X.predict(test_df[features])\n",
    "                             +\n",
    "        psModel.predict_proba(test_df[features])[:,0] * DT_X.predict(test_df[features])\n",
    "    )\n",
    "\n",
    "    upev = UpliftEval(test_df[treatmentCol], test_df[outcomeCol], test_df.uplift)\n",
    "\n",
    "    print('q2_aqini: ', round(upev.q2_aqini,3), 'q2_qini: ', round(upev.q2_qini,3), 'q2_cgains: ', round(upev.q2_cgains,3))\n",
    "#     upev.plot(plot_type='cgains', label='Model: X-Learner; TV=treatment & OV=visit')\n",
    "\n",
    "    XL_ConversionTreatmentMts['q2_qini'].append(upev.q2_qini) \n",
    "    XL_ConversionTreatmentMts['q2_aqini'].append(upev.q2_aqini)\n",
    "    XL_ConversionTreatmentMts['q2_cgains'].append(upev.q2_cgains)\n",
    "    \n"
   ]
  },
  {
   "cell_type": "code",
   "execution_count": 0,
   "metadata": {
    "application/vnd.databricks.v1+cell": {
     "inputWidgets": {},
     "nuid": "1ca845a1-f090-4eca-9dbc-80e7bf650fd8",
     "showTitle": false,
     "title": ""
    }
   },
   "outputs": [
    {
     "data": {
      "text/html": [
       "<style scoped>\n",
       "  .ansiout {\n",
       "    display: block;\n",
       "    unicode-bidi: embed;\n",
       "    white-space: pre-wrap;\n",
       "    word-wrap: break-word;\n",
       "    word-break: break-all;\n",
       "    font-family: \"Source Code Pro\", \"Menlo\", monospace;;\n",
       "    font-size: 13px;\n",
       "    color: #555;\n",
       "    margin-left: 4px;\n",
       "    line-height: 19px;\n",
       "  }\n",
       "</style>\n",
       "<div class=\"ansiout\">TMA: visit       + treatment\n",
       "\t mean:  0.105 std:  0.005\n",
       "\t mean:  0.086 std:  0.005\n",
       "\t mean:  0.083 std:  0.005\n",
       "\n",
       "\n",
       "TMA: conversion  + treatment\n",
       "\t mean:  0.137 std:  0.026\n",
       "\t mean:  0.121 std:  0.026\n",
       "\t mean:  0.116 std:  0.026\n",
       "\n",
       "\n",
       "SMA: visit       + treatment\n",
       "\t mean:  0.109 std:  0.003\n",
       "\t mean:  0.086 std:  0.003\n",
       "\t mean:  0.084 std:  0.003\n",
       "\n",
       "\n",
       "SMA: conversion  + treatment\n",
       "\t mean:  0.054 std:  0.08\n",
       "\t mean:  0.05 std:  0.08\n",
       "\t mean:  0.049 std:  0.078\n",
       "\n",
       "\n",
       "OT:  visit       + treatment\n",
       "\t mean:  0.105 std:  0.003\n",
       "\t mean:  0.084 std:  0.003\n",
       "\t mean:  0.082 std:  0.003\n",
       "\n",
       "\n",
       "OT:  conversion  + treatment\n",
       "\t mean:  0.209 std:  0.017\n",
       "\t mean:  0.186 std:  0.017\n",
       "\t mean:  0.181 std:  0.017\n",
       "\n",
       "\n",
       "XL:  visit       + treatment\n",
       "\t mean:  0.109 std:  0.003\n",
       "\t mean:  0.089 std:  0.003\n",
       "\t mean:  0.086 std:  0.003\n",
       "\n",
       "\n",
       "XL:  conversion  + treatment\n",
       "\t mean:  0.175 std:  0.033\n",
       "\t mean:  0.157 std:  0.033\n",
       "\t mean:  0.151 std:  0.033\n",
       "\n",
       "\n",
       "</div>"
      ]
     },
     "metadata": {
      "application/vnd.databricks.v1+output": {
       "addedWidgets": {},
       "arguments": {},
       "data": "<div class=\"ansiout\">TMA: visit       + treatment\n\t mean:  0.105 std:  0.005\n\t mean:  0.086 std:  0.005\n\t mean:  0.083 std:  0.005\n\n\nTMA: conversion  + treatment\n\t mean:  0.137 std:  0.026\n\t mean:  0.121 std:  0.026\n\t mean:  0.116 std:  0.026\n\n\nSMA: visit       + treatment\n\t mean:  0.109 std:  0.003\n\t mean:  0.086 std:  0.003\n\t mean:  0.084 std:  0.003\n\n\nSMA: conversion  + treatment\n\t mean:  0.054 std:  0.08\n\t mean:  0.05 std:  0.08\n\t mean:  0.049 std:  0.078\n\n\nOT:  visit       + treatment\n\t mean:  0.105 std:  0.003\n\t mean:  0.084 std:  0.003\n\t mean:  0.082 std:  0.003\n\n\nOT:  conversion  + treatment\n\t mean:  0.209 std:  0.017\n\t mean:  0.186 std:  0.017\n\t mean:  0.181 std:  0.017\n\n\nXL:  visit       + treatment\n\t mean:  0.109 std:  0.003\n\t mean:  0.089 std:  0.003\n\t mean:  0.086 std:  0.003\n\n\nXL:  conversion  + treatment\n\t mean:  0.175 std:  0.033\n\t mean:  0.157 std:  0.033\n\t mean:  0.151 std:  0.033\n\n\n</div>",
       "datasetInfos": [],
       "removedWidgets": [],
       "type": "html"
      }
     },
     "output_type": "display_data"
    }
   ],
   "source": [
    "ModelMetrics = [\n",
    "            ('TMA: visit       + treatment', TMA_VisitTreatmentMts), \n",
    "            ('TMA: conversion  + treatment', TMA_ConversionTreatmentMts), \n",
    "            ('SMA: visit       + treatment', SMA_VisitTreatmentMts), \n",
    "            ('SMA: conversion  + treatment', SMA_ConversionTreatmentMts), \n",
    "            ('OT:  visit       + treatment', OT_VisitTreatmentMts), \n",
    "            ('OT:  conversion  + treatment', OT_ConversionTreatmentMts), \n",
    "            ('XL:  visit       + treatment', XL_VisitTreatmentMts), \n",
    "            ('XL:  conversion  + treatment', XL_ConversionTreatmentMts)\n",
    "]\n",
    "for (modelName, modelMetrics) in ModelMetrics:\n",
    "    print(modelName)\n",
    "    print( '\\t mean: ', round(np.mean(modelMetrics['q2_qini']),  3),   'std: ', round(np.std(modelMetrics['q2_aqini']) ,3) )\n",
    "    print( '\\t mean: ', round(np.mean(modelMetrics['q2_aqini']), 3),   'std: ', round(np.std(modelMetrics['q2_aqini']) ,3) )\n",
    "    print( '\\t mean: ', round(np.mean(modelMetrics['q2_cgains']),3),   'std: ', round(np.std(modelMetrics['q2_cgains']),3) )\n",
    "    print('\\n')\n"
   ]
  },
  {
   "cell_type": "code",
   "execution_count": 0,
   "metadata": {
    "application/vnd.databricks.v1+cell": {
     "inputWidgets": {},
     "nuid": "2b9862f5-f3ed-4634-8481-93053d8bb9c4",
     "showTitle": false,
     "title": ""
    }
   },
   "outputs": [
    {
     "data": {
      "text/html": [
       "<style scoped>\n",
       "  .ansiout {\n",
       "    display: block;\n",
       "    unicode-bidi: embed;\n",
       "    white-space: pre-wrap;\n",
       "    word-wrap: break-word;\n",
       "    word-break: break-all;\n",
       "    font-family: \"Source Code Pro\", \"Menlo\", monospace;;\n",
       "    font-size: 13px;\n",
       "    color: #555;\n",
       "    margin-left: 4px;\n",
       "    line-height: 19px;\n",
       "  }\n",
       "</style>\n",
       "<div class=\"ansiout\">TMA: visit       + treatment\n",
       "\t [0.11617325871812029, 0.1004508201409335, 0.10157777310526447, 0.09965827250525336, 0.10504298819923442]\n",
       "\t [0.09647550575365084, 0.08134322670786229, 0.08397233769815406, 0.08226609320069926, 0.08617335873273574]\n",
       "\t [0.09324649044285886, 0.07861948282947732, 0.08133872126772519, 0.07966335186663229, 0.08342339661107713]\n",
       "TMA: conversion  + treatment\n",
       "\t [0.1486189778942153, 0.09097950271034998, 0.12727195609685754, 0.15083308134501014, 0.1673643197424234]\n",
       "\t [0.13175862892748108, 0.07711996462609573, 0.10795862236898646, 0.1365086356644537, 0.15287656683813897]\n",
       "\t [0.12657899415106474, 0.0728151750288048, 0.10338156422212409, 0.13096248588936013, 0.14772992663780554]\n",
       "SMA: visit       + treatment\n",
       "\t [0.1119931274924665, 0.10869849973697425, 0.10617960134904351, 0.11373597007326888, 0.10578060871941869]\n",
       "\t [0.08827979747471101, 0.08545254969028453, 0.08349459872085696, 0.09062204286041144, 0.08322194482354092]\n",
       "\t [0.08545035452512946, 0.08275676617114736, 0.08092871896945504, 0.08771628744110495, 0.08076038273519026]\n",
       "SMA: conversion  + treatment\n",
       "\t [0.22897388623595555, 0.01616976592160363, 0.007223430336616054, 0.00744350251581592, 0.01008050338246231]\n",
       "\t [0.20940182243714922, 0.016412729165855365, 0.005789009031663772, 0.007621539312816839, 0.009954501326890014]\n",
       "\t [0.20347207163825706, 0.016487656752357367, 0.0054205474032254265, 0.007668447573298726, 0.009879794777420766]\n",
       "OT:  visit       + treatment\n",
       "\t [0.10766675984876489, 0.10325751822438345, 0.10258877286006735, 0.10871787658833339, 0.10172912376764223]\n",
       "\t [0.08599325055218308, 0.08122896527052156, 0.08300206647130438, 0.08781378221753915, 0.08079553423645727]\n",
       "\t [0.08384626031279008, 0.07917044527033228, 0.08114858380511518, 0.08572005805078099, 0.0788656100650473]\n",
       "OT:  conversion  + treatment\n",
       "\t [0.2352629300534, 0.19359893245030751, 0.18922035305610466, 0.21774198201207492, 0.21051579186740307]\n",
       "\t [0.21315564358836522, 0.16977100524135824, 0.16569073912099277, 0.19516125090548317, 0.18782466848740406]\n",
       "\t [0.2066090612414756, 0.16454445964401362, 0.1607861368908862, 0.18929760937650705, 0.18228651060144052]\n",
       "XL:  visit       + treatment\n",
       "\t [0.11051823224332372, 0.10615069408940515, 0.10815567581458387, 0.11380392941522635, 0.10712815029697334]\n",
       "\t [0.08997357005297671, 0.08451024640609421, 0.09019161497426625, 0.09433293803115682, 0.08659555969072234]\n",
       "\t [0.08682494520600513, 0.08153927719125374, 0.08755386143531825, 0.0913528037061221, 0.08380262915551702]\n",
       "XL:  conversion  + treatment\n",
       "\t [0.2100918104574187, 0.1123116835296516, 0.17393054323183868, 0.18142383992041805, 0.19727042683448767]\n",
       "\t [0.1904640090200632, 0.09496569984445503, 0.1536168212899018, 0.16367916067619756, 0.18036800275363202]\n",
       "\t [0.18440018545544232, 0.09066568802607163, 0.1488742519376174, 0.1580331692606642, 0.17513773346353181]\n",
       "</div>"
      ]
     },
     "metadata": {
      "application/vnd.databricks.v1+output": {
       "addedWidgets": {},
       "arguments": {},
       "data": "<div class=\"ansiout\">TMA: visit       + treatment\n\t [0.11617325871812029, 0.1004508201409335, 0.10157777310526447, 0.09965827250525336, 0.10504298819923442]\n\t [0.09647550575365084, 0.08134322670786229, 0.08397233769815406, 0.08226609320069926, 0.08617335873273574]\n\t [0.09324649044285886, 0.07861948282947732, 0.08133872126772519, 0.07966335186663229, 0.08342339661107713]\nTMA: conversion  + treatment\n\t [0.1486189778942153, 0.09097950271034998, 0.12727195609685754, 0.15083308134501014, 0.1673643197424234]\n\t [0.13175862892748108, 0.07711996462609573, 0.10795862236898646, 0.1365086356644537, 0.15287656683813897]\n\t [0.12657899415106474, 0.0728151750288048, 0.10338156422212409, 0.13096248588936013, 0.14772992663780554]\nSMA: visit       + treatment\n\t [0.1119931274924665, 0.10869849973697425, 0.10617960134904351, 0.11373597007326888, 0.10578060871941869]\n\t [0.08827979747471101, 0.08545254969028453, 0.08349459872085696, 0.09062204286041144, 0.08322194482354092]\n\t [0.08545035452512946, 0.08275676617114736, 0.08092871896945504, 0.08771628744110495, 0.08076038273519026]\nSMA: conversion  + treatment\n\t [0.22897388623595555, 0.01616976592160363, 0.007223430336616054, 0.00744350251581592, 0.01008050338246231]\n\t [0.20940182243714922, 0.016412729165855365, 0.005789009031663772, 0.007621539312816839, 0.009954501326890014]\n\t [0.20347207163825706, 0.016487656752357367, 0.0054205474032254265, 0.007668447573298726, 0.009879794777420766]\nOT:  visit       + treatment\n\t [0.10766675984876489, 0.10325751822438345, 0.10258877286006735, 0.10871787658833339, 0.10172912376764223]\n\t [0.08599325055218308, 0.08122896527052156, 0.08300206647130438, 0.08781378221753915, 0.08079553423645727]\n\t [0.08384626031279008, 0.07917044527033228, 0.08114858380511518, 0.08572005805078099, 0.0788656100650473]\nOT:  conversion  + treatment\n\t [0.2352629300534, 0.19359893245030751, 0.18922035305610466, 0.21774198201207492, 0.21051579186740307]\n\t [0.21315564358836522, 0.16977100524135824, 0.16569073912099277, 0.19516125090548317, 0.18782466848740406]\n\t [0.2066090612414756, 0.16454445964401362, 0.1607861368908862, 0.18929760937650705, 0.18228651060144052]\nXL:  visit       + treatment\n\t [0.11051823224332372, 0.10615069408940515, 0.10815567581458387, 0.11380392941522635, 0.10712815029697334]\n\t [0.08997357005297671, 0.08451024640609421, 0.09019161497426625, 0.09433293803115682, 0.08659555969072234]\n\t [0.08682494520600513, 0.08153927719125374, 0.08755386143531825, 0.0913528037061221, 0.08380262915551702]\nXL:  conversion  + treatment\n\t [0.2100918104574187, 0.1123116835296516, 0.17393054323183868, 0.18142383992041805, 0.19727042683448767]\n\t [0.1904640090200632, 0.09496569984445503, 0.1536168212899018, 0.16367916067619756, 0.18036800275363202]\n\t [0.18440018545544232, 0.09066568802607163, 0.1488742519376174, 0.1580331692606642, 0.17513773346353181]\n</div>",
       "datasetInfos": [],
       "removedWidgets": [],
       "type": "html"
      }
     },
     "output_type": "display_data"
    }
   ],
   "source": [
    "ModelMetrics = [\n",
    "            ('TMA: visit       + treatment', TMA_VisitTreatmentMts), \n",
    "            ('TMA: conversion  + treatment', TMA_ConversionTreatmentMts), \n",
    "            ('SMA: visit       + treatment', SMA_VisitTreatmentMts), \n",
    "            ('SMA: conversion  + treatment', SMA_ConversionTreatmentMts), \n",
    "            ('OT:  visit       + treatment', OT_VisitTreatmentMts), \n",
    "            ('OT:  conversion  + treatment', OT_ConversionTreatmentMts), \n",
    "            ('XL:  visit       + treatment', XL_VisitTreatmentMts), \n",
    "            ('XL:  conversion  + treatment', XL_ConversionTreatmentMts)\n",
    "]\n",
    "for (modelName, modelMetrics) in ModelMetrics:\n",
    "    print(modelName)\n",
    "    print('\\t', modelMetrics['q2_qini'])\n",
    "    print('\\t', modelMetrics['q2_aqini'])\n",
    "    print('\\t', modelMetrics['q2_cgains'])"
   ]
  },
  {
   "cell_type": "code",
   "execution_count": 0,
   "metadata": {
    "application/vnd.databricks.v1+cell": {
     "inputWidgets": {},
     "nuid": "40988e78-debb-40ad-823e-1a805f81b699",
     "showTitle": false,
     "title": ""
    }
   },
   "outputs": [
    {
     "data": {
      "text/html": [
       "<style scoped>\n",
       "  .ansiout {\n",
       "    display: block;\n",
       "    unicode-bidi: embed;\n",
       "    white-space: pre-wrap;\n",
       "    word-wrap: break-word;\n",
       "    word-break: break-all;\n",
       "    font-family: \"Source Code Pro\", \"Menlo\", monospace;;\n",
       "    font-size: 13px;\n",
       "    color: #555;\n",
       "    margin-left: 4px;\n",
       "    line-height: 19px;\n",
       "  }\n",
       "</style>\n",
       "<div class=\"ansiout\"></div>"
      ]
     },
     "metadata": {
      "application/vnd.databricks.v1+output": {
       "addedWidgets": {},
       "arguments": {},
       "data": "<div class=\"ansiout\"></div>",
       "datasetInfos": [],
       "removedWidgets": [],
       "type": "html"
      }
     },
     "output_type": "display_data"
    }
   ],
   "source": [
    "# TMA: visit       + treatment\n",
    "# \t mean:  0.105 std:  0.007\n",
    "# \t mean:  0.086 std:  0.007\n",
    "# \t mean:  0.083 std:  0.007\n",
    "\n",
    "\n",
    "# TMA: conversion  + treatment\n",
    "# \t mean:  0.145 std:  0.035\n",
    "# \t mean:  0.127 std:  0.035\n",
    "# \t mean:  0.123 std:  0.034\n",
    "\n",
    "\n",
    "# SMA: visit       + treatment\n",
    "# \t mean:  0.108 std:  0.004\n",
    "# \t mean:  0.083 std:  0.004\n",
    "# \t mean:  0.08 std:  0.004\n",
    "\n",
    "\n",
    "# SMA: conversion  + treatment\n",
    "# \t mean:  0.142 std:  0.064\n",
    "# \t mean:  0.129 std:  0.064\n",
    "# \t mean:  0.126 std:  0.062\n",
    "\n",
    "\n",
    "# OT:  visit       + treatment\n",
    "# \t mean:  0.103 std:  0.003\n",
    "# \t mean:  0.082 std:  0.003\n",
    "# \t mean:  0.081 std:  0.003\n",
    "\n",
    "\n",
    "# OT:  conversion  + treatment\n",
    "# \t mean:  0.208 std:  0.016\n",
    "# \t mean:  0.185 std:  0.016\n",
    "# \t mean:  0.18 std:  0.015\n",
    "\n",
    "\n",
    "# XL:  visit       + treatment\n",
    "# \t mean:  0.11 std:  0.007\n",
    "# \t mean:  0.091 std:  0.007\n",
    "# \t mean:  0.087 std:  0.007\n",
    "\n",
    "\n",
    "# XL:  conversion  + treatment\n",
    "# \t mean:  0.176 std:  0.03\n",
    "# \t mean:  0.155 std:  0.03\n",
    "# \t mean:  0.149 std:  0.029\n",
    "\n"
   ]
  }
 ],
 "metadata": {
  "application/vnd.databricks.v1+notebook": {
   "dashboards": [],
   "language": "python",
   "notebookMetadata": {
    "pythonIndentUnit": 4
   },
   "notebookName": "Crieto",
   "notebookOrigID": 174102,
   "widgets": {}
  },
  "kernelspec": {
   "display_name": "Python 3",
   "language": "python",
   "name": "python3"
  },
  "language_info": {
   "codemirror_mode": {
    "name": "ipython",
    "version": 3
   },
   "file_extension": ".py",
   "mimetype": "text/x-python",
   "name": "python",
   "nbconvert_exporter": "python",
   "pygments_lexer": "ipython3",
   "version": "3.8.5"
  }
 },
 "nbformat": 4,
 "nbformat_minor": 1
}
